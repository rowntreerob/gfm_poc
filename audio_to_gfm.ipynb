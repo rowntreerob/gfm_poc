{
  "cells": [
    {
      "cell_type": "markdown",
      "metadata": {
        "id": "view-in-github",
        "colab_type": "text"
      },
      "source": [
        "<a href=\"https://colab.research.google.com/github/rowntreerob/gfm_poc/blob/main/audio_to_gfm.ipynb\" target=\"_parent\"><img src=\"https://colab.research.google.com/assets/colab-badge.svg\" alt=\"Open In Colab\"/></a>"
      ]
    },
    {
      "cell_type": "code",
      "execution_count": null,
      "metadata": {
        "id": "1t4fO-HUM52x",
        "collapsed": true
      },
      "outputs": [],
      "source": [
        "!pip install --upgrade deepgram-sdk python-dotenv openai\n",
        "# dependency installs"
      ]
    },
    {
      "cell_type": "code",
      "execution_count": null,
      "metadata": {
        "id": "QB3e1uhoNT-s"
      },
      "outputs": [],
      "source": [
        "# local file .mp3 contains audio input is uploaded\n",
        "# english for now will become spanish\n",
        "from google.colab import files\n",
        "\n",
        "uploaded = files.upload()\n",
        "\n",
        "for fn in uploaded.keys():\n",
        "  AUDIO_FILE = fn\n",
        "  print('User uploaded file \"{name}\" with length {length} bytes'.format(\n",
        "      name=fn, length=len(uploaded[fn])))"
      ]
    },
    {
      "cell_type": "code",
      "execution_count": null,
      "metadata": {
        "id": "NqUhFNuZTcV1"
      },
      "outputs": [],
      "source": [
        "from google.colab import files\n",
        "import os\n",
        "\n",
        "# Upload .env file with deepgram credentials\n",
        "uploaded = files.upload()\n",
        "env_name = list(uploaded.keys())[0]\n",
        "\n",
        "# Rename file in colab\n",
        "try:\n",
        "    os.rename(env_name, '.env')\n",
        "    print('File uploaded and renamed successfully.')\n",
        "except:\n",
        "    print('Error renaming file.')"
      ]
    },
    {
      "cell_type": "code",
      "execution_count": 4,
      "metadata": {
        "id": "xXTxw2wENWey"
      },
      "outputs": [],
      "source": [
        "import os\n",
        "import httpx\n",
        "from dotenv import load_dotenv\n",
        "from deepgram import (\n",
        "    DeepgramClient,\n",
        "    ClientOptionsFromEnv,\n",
        "    PrerecordedOptions,\n",
        "    FileSource,\n",
        ")\n",
        "load_dotenv('.env')  # .env uploads w api-key, project-id values\n",
        "\n",
        "def main():\n",
        "    try:\n",
        "\n",
        "        deepgram: DeepgramClient = DeepgramClient(\"\", ClientOptionsFromEnv())\n",
        "\n",
        "        # process input .mp3 file to buffer\n",
        "        with open(AUDIO_FILE, \"rb\") as file:\n",
        "            buffer_data = file.read()\n",
        "\n",
        "        payload: FileSource = {\n",
        "            \"buffer\": buffer_data,\n",
        "        }\n",
        "\n",
        "        options: PrerecordedOptions = PrerecordedOptions(\n",
        "            model=\"nova-2\",\n",
        "            smart_format=True,\n",
        "            paragraphs=True,\n",
        "            punctuate=True,\n",
        "        )\n",
        "        # call deepgram - response is a transcribed of audio file\n",
        "        response = deepgram.listen.rest.v(\"1\").transcribe_file(\n",
        "            payload, options, timeout=httpx.Timeout(300.0, connect=10.0)\n",
        "        )\n",
        "        data = response['results']['channels'][0]['alternatives'][0]['paragraphs']['transcript']\n",
        "        # print(bucket)\n",
        "\n",
        "    except Exception as e:\n",
        "        print(f\"Exception: {e}\")\n",
        "\n",
        "    finally:\n",
        "    # Declare the global variable\n",
        "      global transcript\n",
        "    transcript = data\n",
        "\n",
        "if __name__ == \"__main__\":\n",
        "    main()"
      ]
    },
    {
      "cell_type": "code",
      "execution_count": null,
      "metadata": {
        "id": "aLSJmGnukwZ5"
      },
      "outputs": [],
      "source": [
        "print(transcript)"
      ]
    },
    {
      "cell_type": "code",
      "execution_count": null,
      "metadata": {
        "id": "gVoDGJjRHb8m"
      },
      "outputs": [],
      "source": [
        "import os\n",
        "from dotenv import load_dotenv, find_dotenv\n",
        "\n",
        "load_dotenv('.env')\n",
        "api_key = os.getenv(\"OPENAI_API_KEY\")\n",
        "from openai import OpenAI\n",
        "\n",
        "\n",
        "# Example usage of the API to generate text using GPT-3\n",
        "client = OpenAI()\n",
        "completion = client.chat.completions.create(\n",
        "    model=\"gpt-4o\",\n",
        "    messages=[\n",
        "        {\"role\": \"developer\", \"content\": \"You are a helpful assistant.\"},\n",
        "        {\n",
        "            \"role\": \"user\",\n",
        "            \"content\": \"Write a haiku about recursion in programming.\"\n",
        "        }\n",
        "    ]\n",
        ")\n",
        "\n",
        "print(completion.choices[0].message)"
      ]
    }
  ],
  "metadata": {
    "colab": {
      "provenance": [],
      "authorship_tag": "ABX9TyMhPQujFjI8vqnlafAfeYhk",
      "include_colab_link": true
    },
    "kernelspec": {
      "display_name": "Python 3",
      "name": "python3"
    },
    "language_info": {
      "name": "python"
    }
  },
  "nbformat": 4,
  "nbformat_minor": 0
}